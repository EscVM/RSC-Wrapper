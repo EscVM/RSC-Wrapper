{
 "cells": [
  {
   "cell_type": "code",
   "execution_count": null,
   "id": "amended-giving",
   "metadata": {
    "ExecuteTime": {
     "end_time": "2021-05-12T18:12:33.021952Z",
     "start_time": "2021-05-12T18:12:32.891337Z"
    }
   },
   "outputs": [],
   "source": [
    "%matplotlib inline\n",
    "%load_ext autoreload\n",
    "%autoreload 2"
   ]
  },
  {
   "cell_type": "code",
   "execution_count": null,
   "id": "elegant-wound",
   "metadata": {
    "ExecuteTime": {
     "end_time": "2021-05-12T18:12:34.463732Z",
     "start_time": "2021-05-12T18:12:33.022966Z"
    }
   },
   "outputs": [],
   "source": [
    "import os\n",
    "import math\n",
    "import tensorflow as tf\n",
    "import numpy as np\n",
    "import matplotlib.pyplot as plt\n",
    "import tensorflow_datasets as tfds\n",
    "from pathlib import Path\n",
    "from tqdm.notebook import tqdm\n",
    "import cv2\n",
    "import shutil\n",
    "import glob\n",
    "from utils.rsc_optimizer import RSCModelWrapper \n",
    "import json\n",
    "from tensorflow.keras.applications.resnet import preprocess_input\n",
    "from utils.data_augmentation_pacs import random_crop, grayscale, horizontal_flip, standardize\n",
    "from utils.visualize import plot_misclassified_images, plotImages"
   ]
  },
  {
   "cell_type": "code",
   "execution_count": null,
   "id": "awful-brazilian",
   "metadata": {
    "ExecuteTime": {
     "end_time": "2021-05-12T18:12:34.485594Z",
     "start_time": "2021-05-12T18:12:34.465075Z"
    }
   },
   "outputs": [],
   "source": [
    " # set some paths\n",
    "model_dir = Path('bin')\n",
    "DATA_DIR = Path('../Homework3-PACS/')\n",
    "DATA_DIR_art_painting = Path('../Homework3-PACS/PACS/art_painting')\n",
    "DATA_DIR_cartoon = Path('../Homework3-PACS/PACS/cartoon')\n",
    "DATA_DIR_photo = Path('../Homework3-PACS/PACS/photo')\n",
    "DATA_DIR_sketch = Path('../Homework3-PACS/PACS/sketch')\n",
    "\n",
    "\n",
    "\n",
    "# set some variables \n",
    "config = json.load(open('config.json', 'r'))\n",
    "label_names =  {'dog': 0, 'elephant': 1, 'giraffe': 2, 'guitar': 3, 'horse': 4, 'house': 5, 'person': 6}\n",
    "config"
   ]
  },
  {
   "cell_type": "code",
   "execution_count": null,
   "id": "narrow-motel",
   "metadata": {
    "ExecuteTime": {
     "end_time": "2021-05-12T18:12:34.554595Z",
     "start_time": "2021-05-12T18:12:34.486618Z"
    }
   },
   "outputs": [],
   "source": [
    "gpus = tf.config.experimental.list_physical_devices('GPU')\n",
    "tf.config.experimental.set_visible_devices(gpus[1], 'GPU')\n",
    "tf.config.experimental.set_memory_growth(gpus[1], True)"
   ]
  },
  {
   "cell_type": "markdown",
   "id": "national-representative",
   "metadata": {},
   "source": [
    "# Import the Dataset"
   ]
  },
  {
   "cell_type": "code",
   "execution_count": null,
   "id": "agreed-violence",
   "metadata": {
    "ExecuteTime": {
     "end_time": "2021-05-12T18:12:34.576162Z",
     "start_time": "2021-05-12T18:12:34.555556Z"
    }
   },
   "outputs": [],
   "source": [
    "def create_dataset(img_folder, data_augmentation=True):\n",
    "    img_data_array=[]\n",
    "    class_name=[]\n",
    "   \n",
    "    for dir_name in os.listdir(img_folder):\n",
    "        for file in os.listdir(os.path.join(img_folder, dir_name)):       \n",
    "            image_path= os.path.join(img_folder, dir_name,  file)\n",
    "            image= cv2.imread(image_path)[:,:,::-1]\n",
    "            image=cv2.resize(image, (config['input_shape'][1], config['input_shape'][0]),interpolation = cv2.INTER_AREA)           \n",
    "            image=np.array(image, dtype = np.float32)\n",
    "            img_data_array.append(image)\n",
    "            class_name.append(label_names[dir_name])\n",
    "    return np.array(img_data_array), np.array(class_name)"
   ]
  },
  {
   "cell_type": "code",
   "execution_count": null,
   "id": "sticky-telescope",
   "metadata": {
    "ExecuteTime": {
     "end_time": "2021-05-12T18:12:48.243192Z",
     "start_time": "2021-05-12T18:12:34.577102Z"
    }
   },
   "outputs": [],
   "source": [
    "# download PACS dataset if not present\n",
    "if not os.path.isdir(DATA_DIR):\n",
    "    !git clone https://github.com/MachineLearning2020/Homework3-PACS.git $DATA_DIR\n",
    "\n",
    "# extract the image array and class name\n",
    "X_art, y_art = create_dataset(DATA_DIR_art_painting)\n",
    "X_photo, y_photo = create_dataset(DATA_DIR_photo)\n",
    "X_cartoon, y_cartoon = create_dataset(DATA_DIR_cartoon)\n",
    "X_sketch, y_sketch = create_dataset(DATA_DIR_sketch)"
   ]
  },
  {
   "cell_type": "code",
   "execution_count": null,
   "id": "oriental-sudan",
   "metadata": {
    "ExecuteTime": {
     "end_time": "2021-05-12T18:12:48.263964Z",
     "start_time": "2021-05-12T18:12:48.244100Z"
    }
   },
   "outputs": [],
   "source": [
    "print(X_art.shape, y_art.shape)\n",
    "print(X_photo.shape, y_photo.shape)\n",
    "print(X_cartoon.shape, y_cartoon.shape)\n",
    "print(X_sketch.shape, y_sketch.shape)"
   ]
  },
  {
   "cell_type": "markdown",
   "id": "dense-provision",
   "metadata": {},
   "source": [
    "# Visualize the Dataset"
   ]
  },
  {
   "cell_type": "code",
   "execution_count": null,
   "id": "healthy-franklin",
   "metadata": {
    "ExecuteTime": {
     "end_time": "2021-05-12T18:12:49.758075Z",
     "start_time": "2021-05-12T18:12:48.264705Z"
    },
    "scrolled": false
   },
   "outputs": [],
   "source": [
    "start_index = 500\n",
    "end_index = 520\n",
    "plotImages((X_photo[start_index:end_index].astype('uint8'), y_photo[start_index:end_index]), end_index-start_index, list(label_names))"
   ]
  },
  {
   "cell_type": "code",
   "execution_count": null,
   "id": "elementary-double",
   "metadata": {
    "ExecuteTime": {
     "end_time": "2021-05-12T18:12:51.291404Z",
     "start_time": "2021-05-12T18:12:49.759564Z"
    },
    "scrolled": false
   },
   "outputs": [],
   "source": [
    "start_index = 1000\n",
    "end_index = 1020\n",
    "plotImages((X_art[start_index:end_index].astype('uint8'),\n",
    "            y_art[start_index:end_index]), end_index-start_index, list(label_names))"
   ]
  },
  {
   "cell_type": "markdown",
   "id": "fiscal-asset",
   "metadata": {},
   "source": [
    "# Pre-process the Dataset"
   ]
  },
  {
   "cell_type": "markdown",
   "id": "bearing-banking",
   "metadata": {},
   "source": [
    "## Split train and test"
   ]
  },
  {
   "cell_type": "code",
   "execution_count": null,
   "id": "level-impossible",
   "metadata": {
    "ExecuteTime": {
     "end_time": "2021-05-12T18:12:51.312733Z",
     "start_time": "2021-05-12T18:12:51.292687Z"
    }
   },
   "outputs": [],
   "source": [
    "def train_test_split(train_x, test_x, train_y, test_y):\n",
    "    X_train = np.concatenate(train_x)\n",
    "    y_train = np.concatenate(train_y)\n",
    "    X_test = np.concatenate(test_x)\n",
    "    y_test = np.concatenate(test_y)\n",
    "    return X_train, X_test, y_train, y_test\n"
   ]
  },
  {
   "cell_type": "code",
   "execution_count": null,
   "id": "bibliographic-spirit",
   "metadata": {
    "ExecuteTime": {
     "end_time": "2021-05-12T18:12:52.198915Z",
     "start_time": "2021-05-12T18:12:51.313662Z"
    }
   },
   "outputs": [],
   "source": [
    "# art, photo, cartoon, sketch\n",
    "X_train, X_test, y_train, y_test = train_test_split([X_cartoon, X_photo, X_art],\n",
    "                                                    [X_sketch], [y_cartoon, y_photo, y_art], [y_sketch])"
   ]
  },
  {
   "cell_type": "markdown",
   "id": "accepting-cocktail",
   "metadata": {},
   "source": [
    "## Create a tf.Data pipeline"
   ]
  },
  {
   "cell_type": "code",
   "execution_count": null,
   "id": "informed-deployment",
   "metadata": {
    "ExecuteTime": {
     "end_time": "2021-05-12T18:12:52.219545Z",
     "start_time": "2021-05-12T18:12:52.199835Z"
    }
   },
   "outputs": [],
   "source": [
    "def tf_data_preprocess(X, y, batch_size, buffer_size):\n",
    "    ds = tf.data.Dataset.from_tensor_slices((X,y))\n",
    "    ds = ds.map(random_crop, num_parallel_calls=tf.data.AUTOTUNE)\n",
    "    ds = ds.map(horizontal_flip, num_parallel_calls=tf.data.AUTOTUNE)\n",
    "    ds = ds.map(grayscale, num_parallel_calls=tf.data.AUTOTUNE)\n",
    "    ds = ds.map(normalize, num_parallel_calls=tf.data.AUTOTUNE)\n",
    "    ds = ds.shuffle(buffer_size).batch(batch_size).prefetch(tf.data.AUTOTUNE)\n",
    "    return ds"
   ]
  },
  {
   "cell_type": "markdown",
   "id": "interim-ordering",
   "metadata": {},
   "source": [
    "# Build the Model"
   ]
  },
  {
   "cell_type": "code",
   "execution_count": null,
   "id": "designing-compression",
   "metadata": {
    "ExecuteTime": {
     "end_time": "2021-05-12T18:12:53.478040Z",
     "start_time": "2021-05-12T18:12:52.220405Z"
    }
   },
   "outputs": [],
   "source": [
    "backbone = tf.keras.applications.ResNet50(include_top=False, weights='imagenet',input_shape=config['input_shape'])"
   ]
  },
  {
   "cell_type": "code",
   "execution_count": null,
   "id": "hazardous-czech",
   "metadata": {
    "ExecuteTime": {
     "end_time": "2021-05-12T18:12:53.501103Z",
     "start_time": "2021-05-12T18:12:53.479064Z"
    }
   },
   "outputs": [],
   "source": [
    "#create classification head\n",
    "class_head = tf.keras.models.Sequential([tf.keras.layers.Dense(512*4),\n",
    "                                         tf.keras.layers.Dense(7)]) # no softmax"
   ]
  },
  {
   "cell_type": "code",
   "execution_count": null,
   "id": "formal-tourist",
   "metadata": {
    "ExecuteTime": {
     "end_time": "2021-05-12T18:12:53.827014Z",
     "start_time": "2021-05-12T18:12:53.501937Z"
    }
   },
   "outputs": [],
   "source": [
    "# create the model\n",
    "model = RSCModelWrapper(backbone, class_head, \n",
    "                        trainable_backbone=True, \n",
    "                        percentile=config[\"percentile\"], batch_percentage=config[\"batch_percentage\"])"
   ]
  },
  {
   "cell_type": "code",
   "execution_count": null,
   "id": "heavy-october",
   "metadata": {
    "ExecuteTime": {
     "end_time": "2021-05-12T18:12:53.853450Z",
     "start_time": "2021-05-12T18:12:53.828430Z"
    }
   },
   "outputs": [],
   "source": [
    "model.summary()"
   ]
  },
  {
   "cell_type": "markdown",
   "id": "alert-estate",
   "metadata": {},
   "source": [
    "# Train Network with RSC"
   ]
  },
  {
   "cell_type": "code",
   "execution_count": null,
   "id": "turned-pixel",
   "metadata": {
    "ExecuteTime": {
     "end_time": "2021-05-12T18:12:53.873858Z",
     "start_time": "2021-05-12T18:12:53.854296Z"
    }
   },
   "outputs": [],
   "source": [
    "lr_schedule = tf.keras.optimizers.schedules.ExponentialDecay(\n",
    "    0.004,\n",
    "    decay_steps=X_train.shape[0]//config['batch_size']*24,\n",
    "    decay_rate=0.1,\n",
    "    staircase=False)"
   ]
  },
  {
   "cell_type": "code",
   "execution_count": null,
   "id": "worse-buffer",
   "metadata": {
    "ExecuteTime": {
     "end_time": "2021-05-12T18:12:53.901300Z",
     "start_time": "2021-05-12T18:12:53.874781Z"
    }
   },
   "outputs": [],
   "source": [
    "optimizer = tf.keras.optimizers.SGD(learning_rate=config['lr'])\n",
    "loss = tf.keras.losses.SparseCategoricalCrossentropy(from_logits=False) # paper was not from logits\n",
    "metric = tf.keras.metrics.SparseCategoricalAccuracy()"
   ]
  },
  {
   "cell_type": "code",
   "execution_count": null,
   "id": "similar-routine",
   "metadata": {
    "ExecuteTime": {
     "end_time": "2021-05-12T18:12:53.934611Z",
     "start_time": "2021-05-12T18:12:53.902331Z"
    }
   },
   "outputs": [],
   "source": [
    " model.compile(config, loss=loss, metric=metric, optimizer=optimizer, \n",
    "               do_not_restore=True, pre_process_fc=tf_data_preprocess)"
   ]
  },
  {
   "cell_type": "code",
   "execution_count": null,
   "id": "victorian-specific",
   "metadata": {
    "ExecuteTime": {
     "end_time": "2021-05-12T18:15:08.785227Z",
     "start_time": "2021-05-12T18:14:58.389026Z"
    },
    "scrolled": false
   },
   "outputs": [],
   "source": [
    "model.fit(X_train, y_train, batch_size=config['batch_size'], epochs=config[\"epochs\"],\n",
    "           buffer_size=config[\"buffer_size\"], validation_data=(X_test, y_test))"
   ]
  },
  {
   "cell_type": "markdown",
   "id": "criminal-compiler",
   "metadata": {},
   "source": [
    "# Evaluate the Network"
   ]
  },
  {
   "cell_type": "markdown",
   "id": "centered-flush",
   "metadata": {},
   "source": [
    "## Standardize"
   ]
  },
  {
   "cell_type": "code",
   "execution_count": null,
   "id": "accessory-introduction",
   "metadata": {
    "ExecuteTime": {
     "end_time": "2021-05-12T18:13:08.623762Z",
     "start_time": "2021-05-12T18:12:32.852Z"
    }
   },
   "outputs": [],
   "source": [
    "X_train_norm, y_train_norm = standardize(X_train, y_train)\n",
    "X_test_norm, y_test_norm = standardize(X_test.copy(), y_test.copy())"
   ]
  },
  {
   "cell_type": "code",
   "execution_count": null,
   "id": "diagnostic-gathering",
   "metadata": {
    "ExecuteTime": {
     "end_time": "2021-05-12T18:13:08.624228Z",
     "start_time": "2021-05-12T18:12:32.853Z"
    }
   },
   "outputs": [],
   "source": [
    "model.evaluate(X_train_norm, y_train_norm)"
   ]
  },
  {
   "cell_type": "code",
   "execution_count": null,
   "id": "asian-clause",
   "metadata": {
    "ExecuteTime": {
     "end_time": "2021-05-12T18:13:08.624719Z",
     "start_time": "2021-05-12T18:12:32.854Z"
    }
   },
   "outputs": [],
   "source": [
    "model.evaluate(X_test_norm, y_test_norm)"
   ]
  }
 ],
 "metadata": {
  "kernelspec": {
   "display_name": "Python 3",
   "language": "python",
   "name": "python3"
  },
  "language_info": {
   "codemirror_mode": {
    "name": "ipython",
    "version": 3
   },
   "file_extension": ".py",
   "mimetype": "text/x-python",
   "name": "python",
   "nbconvert_exporter": "python",
   "pygments_lexer": "ipython3",
   "version": "3.6.9"
  },
  "toc": {
   "base_numbering": 1,
   "nav_menu": {},
   "number_sections": true,
   "sideBar": true,
   "skip_h1_title": false,
   "title_cell": "Table of Contents",
   "title_sidebar": "Contents",
   "toc_cell": false,
   "toc_position": {},
   "toc_section_display": true,
   "toc_window_display": true
  },
  "varInspector": {
   "cols": {
    "lenName": 16,
    "lenType": 16,
    "lenVar": 40
   },
   "kernels_config": {
    "python": {
     "delete_cmd_postfix": "",
     "delete_cmd_prefix": "del ",
     "library": "var_list.py",
     "varRefreshCmd": "print(var_dic_list())"
    },
    "r": {
     "delete_cmd_postfix": ") ",
     "delete_cmd_prefix": "rm(",
     "library": "var_list.r",
     "varRefreshCmd": "cat(var_dic_list()) "
    }
   },
   "types_to_exclude": [
    "module",
    "function",
    "builtin_function_or_method",
    "instance",
    "_Feature"
   ],
   "window_display": false
  }
 },
 "nbformat": 4,
 "nbformat_minor": 5
}
