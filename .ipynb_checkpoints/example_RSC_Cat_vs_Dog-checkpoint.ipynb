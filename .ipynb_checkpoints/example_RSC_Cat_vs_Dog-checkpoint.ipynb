{
 "cells": [
  {
   "cell_type": "code",
   "execution_count": null,
   "id": "deadly-examination",
   "metadata": {
    "ExecuteTime": {
     "end_time": "2021-05-12T17:46:09.156958Z",
     "start_time": "2021-05-12T17:46:09.026424Z"
    }
   },
   "outputs": [],
   "source": [
    "%matplotlib inline\n",
    "%load_ext autoreload\n",
    "%autoreload 2"
   ]
  },
  {
   "cell_type": "code",
   "execution_count": null,
   "id": "gorgeous-revision",
   "metadata": {
    "ExecuteTime": {
     "end_time": "2021-05-12T17:46:16.067198Z",
     "start_time": "2021-05-12T17:46:16.045893Z"
    }
   },
   "outputs": [],
   "source": [
    "import os\n",
    "import tensorflow as tf\n",
    "import numpy as np\n",
    "import matplotlib.pyplot as plt\n",
    "import tensorflow_datasets as tfds\n",
    "from pathlib import Path\n",
    "from tqdm.notebook import tqdm\n",
    "import cv2\n",
    "from sklearn.model_selection import train_test_split\n",
    "from utils.rsc_regularizer import RSCModelWrapper \n",
    "import json\n",
    "from tensorflow.keras.applications.efficientnet import preprocess_input\n",
    "from utils.visualize import plot_misclassified_images"
   ]
  },
  {
   "cell_type": "code",
   "execution_count": null,
   "id": "violent-ethics",
   "metadata": {
    "ExecuteTime": {
     "end_time": "2021-05-12T17:46:19.983816Z",
     "start_time": "2021-05-12T17:46:19.957179Z"
    }
   },
   "outputs": [],
   "source": [
    "# set some paths\n",
    "model_dir = Path('bin')\n",
    "\n",
    "# set some variables \n",
    "config = json.load(open('config.json', 'r'))\n",
    "config"
   ]
  },
  {
   "cell_type": "code",
   "execution_count": null,
   "id": "recognized-inquiry",
   "metadata": {
    "ExecuteTime": {
     "end_time": "2021-05-12T17:46:20.332542Z",
     "start_time": "2021-05-12T17:46:20.248652Z"
    }
   },
   "outputs": [],
   "source": [
    "gpus = tf.config.experimental.list_physical_devices('GPU')\n",
    "tf.config.experimental.set_visible_devices(gpus[1], 'GPU')\n",
    "tf.config.experimental.set_memory_growth(gpus[1], True)"
   ]
  },
  {
   "cell_type": "markdown",
   "id": "statutory-titanium",
   "metadata": {},
   "source": [
    "# Import the Dataset"
   ]
  },
  {
   "cell_type": "markdown",
   "id": "close-monkey",
   "metadata": {},
   "source": [
    "## Download the dataset"
   ]
  },
  {
   "cell_type": "code",
   "execution_count": null,
   "id": "qualified-month",
   "metadata": {
    "ExecuteTime": {
     "end_time": "2021-05-12T17:46:23.451416Z",
     "start_time": "2021-05-12T17:46:22.968647Z"
    }
   },
   "outputs": [],
   "source": [
    "ds_train, ds_info = tfds.load(\n",
    "    'cats_vs_dogs',\n",
    "    shuffle_files=True,\n",
    "    as_supervised=True,\n",
    "    with_info=True)"
   ]
  },
  {
   "cell_type": "code",
   "execution_count": null,
   "id": "greenhouse-samuel",
   "metadata": {
    "ExecuteTime": {
     "end_time": "2021-05-12T17:46:24.255297Z",
     "start_time": "2021-05-12T17:46:24.228255Z"
    }
   },
   "outputs": [],
   "source": [
    "ds_info"
   ]
  },
  {
   "cell_type": "code",
   "execution_count": null,
   "id": "uniform-milton",
   "metadata": {
    "ExecuteTime": {
     "end_time": "2021-05-12T17:46:26.776843Z",
     "start_time": "2021-05-12T17:46:26.750562Z"
    }
   },
   "outputs": [],
   "source": [
    "label_names = ds_info.features['label'].names\n",
    "print(label_names)"
   ]
  },
  {
   "cell_type": "code",
   "execution_count": null,
   "id": "intimate-hanging",
   "metadata": {
    "ExecuteTime": {
     "end_time": "2021-05-12T17:46:27.039053Z",
     "start_time": "2021-05-12T17:46:27.016164Z"
    }
   },
   "outputs": [],
   "source": [
    "n_images = ds_info.splits['train'].num_examples\n",
    "print(n_images)"
   ]
  },
  {
   "cell_type": "markdown",
   "id": "cognitive-skill",
   "metadata": {},
   "source": [
    "## Load data"
   ]
  },
  {
   "cell_type": "code",
   "execution_count": null,
   "id": "inclusive-familiar",
   "metadata": {
    "ExecuteTime": {
     "end_time": "2021-05-12T17:46:43.997049Z",
     "start_time": "2021-05-12T17:46:43.970826Z"
    }
   },
   "outputs": [],
   "source": [
    "# dataset configurations\n",
    "input_size = config[\"input_shape\"]\n",
    "test_size = 0.2"
   ]
  },
  {
   "cell_type": "code",
   "execution_count": null,
   "id": "tender-october",
   "metadata": {
    "ExecuteTime": {
     "end_time": "2021-05-12T17:46:45.782544Z",
     "start_time": "2021-05-12T17:46:45.758374Z"
    }
   },
   "outputs": [],
   "source": [
    "def build_dataset(ds, n_images):\n",
    "    \"\"\"Create a numpy array resizing all images\"\"\"\n",
    "    X = np.empty((n_images, input_size[0], input_size[1], input_size[2]), dtype=\"float32\")\n",
    "    y = np.empty((n_images), dtype=\"float32\")\n",
    "    for i, data in tqdm(enumerate(ds['train'])):\n",
    "        img = cv2.resize(data[0].numpy(), (input_size[1],input_size[0]))\n",
    "        X[i] = img\n",
    "        y[i] = data[1]\n",
    "    return X, y"
   ]
  },
  {
   "cell_type": "code",
   "execution_count": null,
   "id": "current-detector",
   "metadata": {
    "ExecuteTime": {
     "end_time": "2021-05-12T17:46:52.963320Z",
     "start_time": "2021-05-12T17:46:45.949329Z"
    }
   },
   "outputs": [],
   "source": [
    "X, y = build_dataset(ds_train, n_images)"
   ]
  },
  {
   "cell_type": "markdown",
   "id": "invisible-composer",
   "metadata": {},
   "source": [
    "# Pre-process the Dataset"
   ]
  },
  {
   "cell_type": "markdown",
   "id": "social-world",
   "metadata": {},
   "source": [
    "## Standardize"
   ]
  },
  {
   "cell_type": "code",
   "execution_count": null,
   "id": "tribal-envelope",
   "metadata": {
    "ExecuteTime": {
     "end_time": "2021-05-12T17:48:15.376555Z",
     "start_time": "2021-05-12T17:48:15.355750Z"
    }
   },
   "outputs": [],
   "source": [
    "def standardize(X, y):\n",
    "    X = preprocess_input(X)   \n",
    "    return X, y"
   ]
  },
  {
   "cell_type": "code",
   "execution_count": null,
   "id": "appointed-saskatchewan",
   "metadata": {
    "ExecuteTime": {
     "end_time": "2021-05-12T17:48:15.562378Z",
     "start_time": "2021-05-12T17:48:15.523971Z"
    }
   },
   "outputs": [],
   "source": [
    "X, y = standardize(X, y)"
   ]
  },
  {
   "cell_type": "code",
   "execution_count": null,
   "id": "pending-month",
   "metadata": {
    "ExecuteTime": {
     "end_time": "2021-05-12T17:48:15.744385Z",
     "start_time": "2021-05-12T17:48:15.713925Z"
    }
   },
   "outputs": [],
   "source": [
    "print(f\"X shape: {X.shape} | y shape: {y.shape}\")"
   ]
  },
  {
   "cell_type": "markdown",
   "id": "popular-draft",
   "metadata": {},
   "source": [
    "## Split the dataset"
   ]
  },
  {
   "cell_type": "code",
   "execution_count": null,
   "id": "requested-entity",
   "metadata": {
    "ExecuteTime": {
     "end_time": "2021-05-12T17:48:21.997075Z",
     "start_time": "2021-05-12T17:48:20.039083Z"
    }
   },
   "outputs": [],
   "source": [
    "# split with a stratified sampling|\n",
    "(X_train, X_test, y_train, y_test) = train_test_split(X, y,\n",
    "    test_size=test_size, stratify=y, random_state=config['random_state'])"
   ]
  },
  {
   "cell_type": "markdown",
   "id": "facial-diversity",
   "metadata": {},
   "source": [
    "# Build the Model"
   ]
  },
  {
   "cell_type": "code",
   "execution_count": null,
   "id": "biological-allah",
   "metadata": {
    "ExecuteTime": {
     "end_time": "2021-05-12T17:48:42.285926Z",
     "start_time": "2021-05-12T17:48:40.696652Z"
    }
   },
   "outputs": [],
   "source": [
    "# create the backbone\n",
    "backbone = tf.keras.applications.EfficientNetB3(input_shape=config['input_shape'], include_top=False)"
   ]
  },
  {
   "cell_type": "code",
   "execution_count": null,
   "id": "unusual-motion",
   "metadata": {
    "ExecuteTime": {
     "end_time": "2021-05-12T17:48:42.400914Z",
     "start_time": "2021-05-12T17:48:42.377922Z"
    }
   },
   "outputs": [],
   "source": [
    "class_head = tf.keras.models.Sequential([tf.keras.layers.Dense(64, activation='relu'),\n",
    "                                         tf.keras.layers.Dense(64, activation='relu'),\n",
    "                                         tf.keras.layers.Dense(2)]) # no softmax"
   ]
  },
  {
   "cell_type": "code",
   "execution_count": null,
   "id": "liberal-witness",
   "metadata": {
    "ExecuteTime": {
     "end_time": "2021-05-12T17:49:28.265649Z",
     "start_time": "2021-05-12T17:49:27.713493Z"
    }
   },
   "outputs": [],
   "source": [
    "# create the model\n",
    "model = RSCModelWrapper(backbone, class_head, \n",
    "                        trainable_backbone=False, \n",
    "                        percentile=config[\"percentile\"], batch_percentage=config[\"batch_percentage\"])"
   ]
  },
  {
   "cell_type": "code",
   "execution_count": null,
   "id": "cubic-privilege",
   "metadata": {
    "ExecuteTime": {
     "end_time": "2021-05-12T17:48:43.196835Z",
     "start_time": "2021-05-12T17:48:43.170527Z"
    }
   },
   "outputs": [],
   "source": [
    "model.summary()"
   ]
  },
  {
   "cell_type": "markdown",
   "id": "recovered-pollution",
   "metadata": {},
   "source": [
    "# Train Network with RSC"
   ]
  },
  {
   "cell_type": "code",
   "execution_count": null,
   "id": "seeing-rebate",
   "metadata": {
    "ExecuteTime": {
     "end_time": "2021-05-12T17:49:08.905086Z",
     "start_time": "2021-05-12T17:49:08.865745Z"
    }
   },
   "outputs": [],
   "source": [
    "optimizer = tf.keras.optimizers.Adam(learning_rate=config['lr'])\n",
    "loss = tf.keras.losses.SparseCategoricalCrossentropy(from_logits=False) # paper was not from logits\n",
    "metric = tf.keras.metrics.SparseCategoricalAccuracy()"
   ]
  },
  {
   "cell_type": "code",
   "execution_count": null,
   "id": "moved-cholesterol",
   "metadata": {
    "ExecuteTime": {
     "end_time": "2021-05-12T17:49:31.566116Z",
     "start_time": "2021-05-12T17:49:31.516347Z"
    }
   },
   "outputs": [],
   "source": [
    "model.compile(loss=loss, metric=metric, optimizer=optimizer, name_model=config['name'],\n",
    "               do_not_restore=True, pre_process_fc=tf_data_preprocess)"
   ]
  },
  {
   "cell_type": "code",
   "execution_count": null,
   "id": "genuine-banana",
   "metadata": {
    "ExecuteTime": {
     "end_time": "2021-05-12T17:49:55.133892Z",
     "start_time": "2021-05-12T17:49:31.800503Z"
    },
    "scrolled": true
   },
   "outputs": [],
   "source": [
    "model.fit(X_train, y_train, batch_size=config['batch_size'], epochs=config[\"epochs\"])"
   ]
  },
  {
   "cell_type": "markdown",
   "id": "female-jimmy",
   "metadata": {},
   "source": [
    "## Test the network"
   ]
  },
  {
   "cell_type": "code",
   "execution_count": null,
   "id": "smaller-update",
   "metadata": {
    "ExecuteTime": {
     "end_time": "2021-05-06T21:08:24.510673Z",
     "start_time": "2021-05-06T21:08:08.036704Z"
    }
   },
   "outputs": [],
   "source": [
    "results = model.evaluate(X_test, y_test)"
   ]
  },
  {
   "cell_type": "code",
   "execution_count": null,
   "id": "running-parking",
   "metadata": {
    "ExecuteTime": {
     "end_time": "2021-05-06T21:08:28.572538Z",
     "start_time": "2021-05-06T21:08:28.539042Z"
    }
   },
   "outputs": [],
   "source": [
    "print(f\"Loss: {results[0]} <> Accuracy: {results[1]}\")"
   ]
  },
  {
   "cell_type": "markdown",
   "id": "threatened-being",
   "metadata": {},
   "source": [
    "## Plot misclassified images"
   ]
  },
  {
   "cell_type": "code",
   "execution_count": null,
   "id": "formal-entertainment",
   "metadata": {
    "ExecuteTime": {
     "end_time": "2021-04-28T21:24:29.427983Z",
     "start_time": "2021-04-28T21:24:22.655296Z"
    }
   },
   "outputs": [],
   "source": [
    "plot_misclassified_images(X_test, y_pred, y_test, label_names)"
   ]
  },
  {
   "cell_type": "markdown",
   "id": "reliable-first",
   "metadata": {},
   "source": [
    "# Train Network without RSC"
   ]
  },
  {
   "cell_type": "markdown",
   "id": "constitutional-deployment",
   "metadata": {},
   "source": [
    "## Build network"
   ]
  },
  {
   "cell_type": "code",
   "execution_count": null,
   "id": "healthy-pencil",
   "metadata": {
    "ExecuteTime": {
     "end_time": "2021-04-28T21:29:08.474421Z",
     "start_time": "2021-04-28T21:29:06.143304Z"
    }
   },
   "outputs": [],
   "source": [
    "# create the backbone\n",
    "backbone = tf.keras.applications.EfficientNetB3(input_shape=config['input_shape'], include_top=True)\n",
    "class_head = tf.keras.models.Sequential([tf.keras.layers.GlobalAveragePooling2D(),\n",
    "                                         tf.keras.layers.Dense(64, activation='relu'),\n",
    "                                         tf.keras.layers.Dense(64, activation='relu'),\n",
    "                                         tf.keras.layers.Dense(1)])\n",
    "\n",
    "model = tf.keras.models.Sequential([backbone, class_head])"
   ]
  },
  {
   "cell_type": "code",
   "execution_count": null,
   "id": "subject-characteristic",
   "metadata": {
    "ExecuteTime": {
     "end_time": "2021-04-28T21:29:18.216333Z",
     "start_time": "2021-04-28T21:29:18.191507Z"
    }
   },
   "outputs": [],
   "source": [
    "for layer in backbone.layers:\n",
    "    layer.trainable = False"
   ]
  },
  {
   "cell_type": "code",
   "execution_count": null,
   "id": "discrete-society",
   "metadata": {
    "ExecuteTime": {
     "end_time": "2021-04-28T21:29:27.952618Z",
     "start_time": "2021-04-28T21:29:27.925269Z"
    }
   },
   "outputs": [],
   "source": [
    "model.summary()"
   ]
  },
  {
   "cell_type": "markdown",
   "id": "cellular-dylan",
   "metadata": {},
   "source": [
    "## Train the network"
   ]
  },
  {
   "cell_type": "code",
   "execution_count": null,
   "id": "breeding-library",
   "metadata": {
    "ExecuteTime": {
     "end_time": "2021-04-28T21:29:37.673170Z",
     "start_time": "2021-04-28T21:29:37.653020Z"
    }
   },
   "outputs": [],
   "source": [
    "optimizer = tf.keras.optimizers.Adam(learning_rate=config['lr'])\n",
    "loss = tf.keras.losses.BinaryCrossentropy(from_logits=True)"
   ]
  },
  {
   "cell_type": "code",
   "execution_count": null,
   "id": "sensitive-maria",
   "metadata": {
    "ExecuteTime": {
     "end_time": "2021-04-28T21:29:47.837712Z",
     "start_time": "2021-04-28T21:29:47.791718Z"
    }
   },
   "outputs": [],
   "source": [
    "model.compile(optimizer=optimizer, loss=loss, metrics='accuracy')"
   ]
  },
  {
   "cell_type": "code",
   "execution_count": null,
   "id": "announced-kazakhstan",
   "metadata": {
    "ExecuteTime": {
     "end_time": "2021-04-28T21:37:00.925375Z",
     "start_time": "2021-04-28T21:29:57.948193Z"
    }
   },
   "outputs": [],
   "source": [
    "model.fit(X_train, y_train, batch_size=config['batch_size'], epochs=config[\"epochs\"])"
   ]
  },
  {
   "cell_type": "markdown",
   "id": "amateur-queens",
   "metadata": {},
   "source": [
    "## Test the network"
   ]
  },
  {
   "cell_type": "code",
   "execution_count": null,
   "id": "historic-clark",
   "metadata": {
    "ExecuteTime": {
     "end_time": "2021-04-28T21:40:29.898958Z",
     "start_time": "2021-04-28T21:40:17.387060Z"
    }
   },
   "outputs": [],
   "source": [
    "model.evaluate(X_test, y_test)"
   ]
  },
  {
   "cell_type": "code",
   "execution_count": null,
   "id": "confused-commitment",
   "metadata": {
    "ExecuteTime": {
     "end_time": "2021-04-28T20:45:28.494540Z",
     "start_time": "2021-04-28T20:45:28.183770Z"
    }
   },
   "outputs": [],
   "source": [
    "model.save('./bin/baseline.h5')"
   ]
  },
  {
   "cell_type": "markdown",
   "id": "paperback-clone",
   "metadata": {},
   "source": [
    "## Plot misclassified images"
   ]
  },
  {
   "cell_type": "code",
   "execution_count": null,
   "id": "described-engagement",
   "metadata": {
    "ExecuteTime": {
     "end_time": "2021-04-28T21:44:31.909140Z",
     "start_time": "2021-04-28T21:44:20.398020Z"
    }
   },
   "outputs": [],
   "source": [
    "y_pred = model.predict(X_test)"
   ]
  },
  {
   "cell_type": "code",
   "execution_count": null,
   "id": "split-leisure",
   "metadata": {
    "ExecuteTime": {
     "end_time": "2021-04-28T21:44:39.078772Z",
     "start_time": "2021-04-28T21:44:32.732352Z"
    }
   },
   "outputs": [],
   "source": [
    "plot_misclassified_images(X_test, y_pred, y_test, label_names)"
   ]
  }
 ],
 "metadata": {
  "kernelspec": {
   "display_name": "Python 3",
   "language": "python",
   "name": "python3"
  },
  "language_info": {
   "codemirror_mode": {
    "name": "ipython",
    "version": 3
   },
   "file_extension": ".py",
   "mimetype": "text/x-python",
   "name": "python",
   "nbconvert_exporter": "python",
   "pygments_lexer": "ipython3",
   "version": "3.6.9"
  },
  "toc": {
   "base_numbering": 1,
   "nav_menu": {},
   "number_sections": true,
   "sideBar": true,
   "skip_h1_title": false,
   "title_cell": "Table of Contents",
   "title_sidebar": "Contents",
   "toc_cell": false,
   "toc_position": {},
   "toc_section_display": true,
   "toc_window_display": true
  },
  "varInspector": {
   "cols": {
    "lenName": 16,
    "lenType": 16,
    "lenVar": 40
   },
   "kernels_config": {
    "python": {
     "delete_cmd_postfix": "",
     "delete_cmd_prefix": "del ",
     "library": "var_list.py",
     "varRefreshCmd": "print(var_dic_list())"
    },
    "r": {
     "delete_cmd_postfix": ") ",
     "delete_cmd_prefix": "rm(",
     "library": "var_list.r",
     "varRefreshCmd": "cat(var_dic_list()) "
    }
   },
   "types_to_exclude": [
    "module",
    "function",
    "builtin_function_or_method",
    "instance",
    "_Feature"
   ],
   "window_display": false
  }
 },
 "nbformat": 4,
 "nbformat_minor": 5
}
